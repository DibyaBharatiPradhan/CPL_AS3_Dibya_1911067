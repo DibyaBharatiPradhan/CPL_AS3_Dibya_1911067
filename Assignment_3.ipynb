{
 "cells": [
  {
   "cell_type": "code",
   "execution_count": 60,
   "id": "26d8b525",
   "metadata": {},
   "outputs": [],
   "source": [
    "%run my_functions_library.ipynb                             # executing my library file\n"
   ]
  },
  {
   "cell_type": "markdown",
   "id": "e1416978",
   "metadata": {},
   "source": [
    "# Question 1"
   ]
  },
  {
   "cell_type": "code",
   "execution_count": 56,
   "id": "f797d96d",
   "metadata": {},
   "outputs": [
    {
     "name": "stdout",
     "output_type": "stream",
     "text": [
      "Augmented matrix: \n",
      "\n",
      "1    1    1    1    13    \n",
      "\n",
      "2    3    0    -1    -1    \n",
      "\n",
      "-3    4    1    2    10    \n",
      "\n",
      "1    2    -1    1    1    \n",
      "\n",
      "\n",
      "The solutions: \n",
      "2.0 2\n",
      "-0.0 2\n",
      "6.0 2\n",
      "5.0 2\n"
     ]
    }
   ],
   "source": [
    "print(\"Augmented matrix: \")\n",
    "A,r,c=read_matrix('matrix_Q1.txt')\n",
    "print_matrix(A,r,c)                                            #prints the Augmented matrix\n",
    "matrix_GJ, det_val =gauss_jordan(A,r,c)                        #returns solution matrix and determinant value\n",
    "if matrix_GJ!=None:\n",
    "    print(\"The solutions: \")\n",
    "    for i in range(r):\n",
    "        print(Round(matrix_GJ[i][r]),2)\n",
    "else:\n",
    "    print(\"No unique solution\")\n"
   ]
  },
  {
   "cell_type": "markdown",
   "id": "69b69a3a",
   "metadata": {},
   "source": [
    "# Question 2"
   ]
  },
  {
   "cell_type": "code",
   "execution_count": 57,
   "id": "3072750b",
   "metadata": {},
   "outputs": [
    {
     "name": "stdout",
     "output_type": "stream",
     "text": [
      "Augmented matrix: \n",
      "\n",
      "0    2    -3    -1    \n",
      "\n",
      "1    0    1    0    \n",
      "\n",
      "1    -1    0    3    \n",
      "\n",
      "\n",
      "The solutions: \n",
      "1.0\n",
      "-2.0\n",
      "-1.0\n"
     ]
    }
   ],
   "source": [
    "print(\"Augmented matrix: \")\n",
    "B,r,c=read_matrix('matrix_Q2.txt')\n",
    "print_matrix(B,r,c)\n",
    "matrix_GJ, det_val =gauss_jordan(B,r,c)                                 #returns solution matrix and determinant value\n",
    "if matrix_GJ!=None:\n",
    "    print(\"The solutions: \")\n",
    "    for i in range(r):\n",
    "        print(matrix_GJ[i][r])\n",
    "else:\n",
    "    print(\"No unique solution\")\n"
   ]
  },
  {
   "cell_type": "markdown",
   "id": "5846fed2",
   "metadata": {},
   "source": [
    "# Question 3"
   ]
  },
  {
   "cell_type": "code",
   "execution_count": 58,
   "id": "ec9d9e7a",
   "metadata": {},
   "outputs": [
    {
     "name": "stdout",
     "output_type": "stream",
     "text": [
      "Augmented matrix: \n",
      "\n",
      "0    2    1    1    0    0    \n",
      "\n",
      "4    0    1    0    1    0    \n",
      "\n",
      "-1    2    0    0    0    1    \n",
      "\n",
      "\n",
      "Inverse matrix: \n",
      "\n",
      "-0.33    0.33    0.33    \n",
      "\n",
      "-0.17    0.17    0.67    \n",
      "\n",
      "1.33    -0.33    -1.33    \n",
      "\n",
      "\n",
      "The multiplication of the matrix and it's inverse gives (Unit matrix): \n",
      "\n",
      "1.0    0    0    \n",
      "\n",
      "0    1.0    0.0    \n",
      "\n",
      "0    0    1.0    \n",
      "\n",
      "\n"
     ]
    }
   ],
   "source": [
    "print(\"Augmented matrix: \")\n",
    "C,r,c=read_matrix('matrix_Q3.txt')\n",
    "print_matrix(C,r,c)\n",
    "matrix_GJ, det_val =gauss_jordan(C,r,c)                       #returns solution matrix and determinant value\n",
    "C2,r,c=read_matrix('matrix_Q3.txt')                            \n",
    "if matrix_GJ!=None:\n",
    "                                                             # Finding the inverse; printing in rounded form\n",
    "                                         # performing the matrix multiplication for verification and then rounding at the end\n",
    "    M=get_inv(C,r)\n",
    "    M_M,k,l=matrix_multiply(M,r,r,C2,r,r)                           # using only the n x n matrix i.e. unaugmented matrix \n",
    "    M=round_matrix(M)\n",
    "    print(\"Inverse matrix: \")\n",
    "    print_matrix(M,r,r)\n",
    "    print(\"The multiplication of the matrix and it's inverse gives (Unit matrix): \")\n",
    "    M_M=round_matrix(M_M)\n",
    "    print_matrix(M_M,r,r)\n",
    "else:\n",
    "    print(\"No unique solution\")\n"
   ]
  },
  {
   "cell_type": "markdown",
   "id": "562de204",
   "metadata": {},
   "source": [
    "# Question 4"
   ]
  },
  {
   "cell_type": "code",
   "execution_count": 59,
   "id": "131bbaaa",
   "metadata": {},
   "outputs": [
    {
     "name": "stdout",
     "output_type": "stream",
     "text": [
      "Augmented matrix: \n",
      "\n",
      "1    4    2    3    1    0    0    0    \n",
      "\n",
      "0    1    4    4    0    1    0    0    \n",
      "\n",
      "-1    0    1    0    0    0    1    0    \n",
      "\n",
      "2    0    4    1    0    0    0    1    \n",
      "\n",
      "\n",
      "Tha determinant value is = 65.0\n"
     ]
    }
   ],
   "source": [
    "print(\"Augmented matrix: \")\n",
    "D,r,c=read_matrix('matrix_Q4.txt')\n",
    "print_matrix(D,r,c)\n",
    "matrix_GJ, det_val =gauss_jordan(D,r,c)                                      #returns solution matrix and determinant value\n",
    "if matrix_GJ!=None:\n",
    "    print(\"Tha determinant value is = \"+str(det_val))\n",
    "else:\n",
    "    print(\"No unique solution\")\n"
   ]
  },
  {
   "cell_type": "code",
   "execution_count": null,
   "id": "317e9727",
   "metadata": {},
   "outputs": [],
   "source": []
  }
 ],
 "metadata": {
  "kernelspec": {
   "display_name": "Python 3",
   "language": "python",
   "name": "python3"
  },
  "language_info": {
   "codemirror_mode": {
    "name": "ipython",
    "version": 3
   },
   "file_extension": ".py",
   "mimetype": "text/x-python",
   "name": "python",
   "nbconvert_exporter": "python",
   "pygments_lexer": "ipython3",
   "version": "3.8.10"
  }
 },
 "nbformat": 4,
 "nbformat_minor": 5
}
